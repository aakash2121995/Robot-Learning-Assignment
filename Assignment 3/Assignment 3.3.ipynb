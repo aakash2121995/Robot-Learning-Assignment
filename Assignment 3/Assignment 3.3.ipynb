{
 "cells": [
  {
   "cell_type": "markdown",
   "metadata": {},
   "source": [
    "Consider the following grid world:\n",
    "\n",
    "<img src = \"grid.png\" alt = \"grid\" width = \"400px\" >\n",
    "\n",
    "The agent may start in any cell.\n",
    "It can choose between four actions: moving one cell up, moving one cell down, moving one cell\n",
    "left, and moving one cell right.\n",
    "When it reaches cell G, it will receive 100 points and the episode ends.\n",
    "When it reaches a cell marked *, it will receive 5 points and the episode continues.\n",
    "When it attempts to enter a cell marked X, it will receive -20 points and stay in the cell it came\n",
    "from.\n",
    "When it attempts to leave the grid, it will receive -5 points and stay where it is.\n",
    "All actions entering an unmarked cell will receive -1 point.\n",
    "\n",
    "Extend the action set by also allowing diagonal moves, such that the agent can move to its eight\n",
    "neighboring cells.\n",
    "Use the Value Iteration algorithm to compute the optimal value V * (s) for each cell.\n",
    "Indicate the resulting optimal policy π * (s) with arrows in each cell."
   ]
  },
  {
   "cell_type": "code",
   "execution_count": 2,
   "metadata": {
    "collapsed": false,
    "deletable": true,
    "editable": true
   },
   "outputs": [
    {
     "data": {
      "image/png": "[encoded data removed]",
      "text/plain": [
       "<Figure size 288x288 with 1 Axes>"
      ]
     },
     "metadata": {},
     "output_type": "display_data"
    }
   ],
   "source": [
    "import numpy as np\n",
    "import matplotlib.pyplot as plt\n",
    "from itertools import product\n",
    "\n",
    "\n",
    "#defining different actions:\n",
    "up = np.array([-1,0]) #when moving up row will reduce by one and column will be intact\n",
    "down = np.array([1,0])\n",
    "right = np.array([0,1])\n",
    "left = np.array([0,-1])\n",
    "\n",
    "up_left = np.array([-1,-1])\n",
    "up_right = np.array([-1,1])\n",
    "down_left = np.array([1,-1])\n",
    "down_right = np.array([1,1])\n",
    "\n",
    "#defining grid\n",
    "grid = np.array([['*', '*', '*', ' ', '*', '*', ' ', '*', '*'],\n",
    "                 [' ', ' ', ' ', ' ', ' ', 'X', ' ', ' ', '*'],\n",
    "                 [' ', 'X', 'X', 'X', 'X', 'X', 'X', ' ', ' '],\n",
    "                 [' ', ' ', ' ', '*', '*', '*', ' ', 'X', ' '],\n",
    "                 [' ', ' ', 'X', 'X', 'X', 'X', 'X', ' ', ' '],\n",
    "                 [' ', ' ', ' ', ' ', ' ', ' ', ' ', 'X', ' '],\n",
    "                 [' ', 'X', 'X', 'X', 'X', 'X', 'X', 'G', ' '],\n",
    "                 [' ', '*', '*', '*', 'X', '*', '*', ' ', 'X'],\n",
    "                 [' ', '*', '*', '*', ' ', '*', '*', ' ', 'X']])\n",
    "\n",
    "final_state_reached = False\n",
    "actions = [up,up_right,right,down_right,down,down_left,left,up_left]\n",
    "\n",
    "def show_fig(matrix, name):\n",
    "    \"\"\" little helper function to show matrix as an image\"\"\"\n",
    "    plt.matshow(matrix)\n",
    "    plt.title(name)\n",
    "    plt.show()\n",
    "\n",
    "def make_move(state, action):\n",
    "    #to calculate next state with reward\n",
    "    if grid[state[0], state[1]] == 'G':\n",
    "        # terminate and return reward 0 as it is terminal state\n",
    "        return state, 0.\n",
    "\n",
    "    new_state = state + action\n",
    "    # check if moving out from grid\n",
    "    if (not new_state[0] in range(0, 9) or not new_state[1] in range(0, 9)):\n",
    "        return state, -5.\n",
    "    if grid[new_state[0],new_state[1]] == ' ':\n",
    "        state = new_state\n",
    "        return state, -1.\n",
    "    if grid[new_state[0],new_state[1]] == 'X':\n",
    "        return state, -20.\n",
    "    if grid[new_state[0],new_state[1]] == '*':\n",
    "        state = new_state\n",
    "        return state, 5.\n",
    "    if grid[new_state[0],new_state[1]] == 'G':\n",
    "        state = new_state\n",
    "        final_state = True  #will be reaching final stage with reward as 100\n",
    "        return state, 100.\n",
    "    \n",
    "\n",
    "def maxValAction(value_function,x,y):\n",
    "    \n",
    "    max_ = -100000000000\n",
    "    maxAction = [actions[0]]\n",
    "    for action in actions:\n",
    "        new_state = action[0]+x, action[1] + y\n",
    "        if not new_state[0] in range(0, 9) or not new_state[1] in range(0, 9) or val_function[new_state[0],new_state[1]]==0:\n",
    "            continue\n",
    "                                                                                              \n",
    "        if max_ < val_function[new_state[0],new_state[1]]:\n",
    "            max_ = val_function[new_state[0],new_state[1]]\n",
    "            maxAction = [action]\n",
    "        elif max_ == val_function[new_state[0],new_state[1]]:\n",
    "            maxAction.append(action)\n",
    "            \n",
    "    return maxAction\n",
    "        \n",
    "        \n",
    "\n",
    "# Assignement 3.3\n",
    "\n",
    "#initial value of value funtion\n",
    "val_function = np.zeros((9,9))\n",
    "tolerance = 0.01 #for stopping the loop; no value given in question so taking 0.01\n",
    "val_function_old = np.ones((9,9))\n",
    "while np.abs(val_function - val_function_old).max() > tolerance:\n",
    "    # for each state\n",
    "    for x, y in product(range(9), repeat=2):\n",
    "        val_function_old = val_function.copy()\n",
    "        if grid[x,y] == 'X':\n",
    "#             we will never reach x spots , so values dont update\n",
    "            continue\n",
    "        next_states = [make_move(np.array([x, y]), act) for act in actions]\n",
    "        a = np.argmax([reward + 0.9 * val_function[state[0], state[1]] for state, reward in next_states])\n",
    "        next_state,reward = next_states[a]\n",
    "        V = reward + 0.9 * val_function[next_state[0], next_state[1]]\n",
    "        val_function[x][y] = V\n",
    "        \n",
    "# print(val_function)\n",
    "show_fig(val_function, \"3.3 : Value function for pi\")"
   ]
  },
  {
   "cell_type": "code",
   "execution_count": 3,
   "metadata": {
    "collapsed": false,
    "deletable": true,
    "editable": true,
    "scrolled": true
   },
   "outputs": [
    {
     "data": {
      "image/png": "[encoded data removed]",
      "text/plain": [
       "<Figure size 432x288 with 1 Axes>"
      ]
     },
     "metadata": {},
     "output_type": "display_data"
    }
   ],
   "source": [
    "x_pos = []\n",
    "y_pos = []\n",
    "x_direct = []\n",
    "y_direct = []\n",
    "\n",
    "for x, y in product(range(9), repeat=2):\n",
    "    if grid[x,y] == 'X':\n",
    "        continue\n",
    "    actions_ = maxValAction(val_function,x,y)\n",
    "    for action in actions_:\n",
    "        x_pos.append(y)\n",
    "        y_pos.append(8-x)\n",
    "        x_direct.append(action[1])\n",
    "        y_direct.append(-1*action[0])\n",
    "\n",
    "        \n",
    "plt.quiver(x_pos,y_pos,x_direct,y_direct)\n",
    "\n",
    "plt.show()"
   ]
  }
 ],
 "metadata": {
  "kernelspec": {
   "display_name": "Python 3",
   "language": "python",
   "name": "python3"
  },
  "language_info": {
   "codemirror_mode": {
    "name": "ipython",
    "version": 3
   },
   "file_extension": ".py",
   "mimetype": "text/x-python",
   "name": "python",
   "nbconvert_exporter": "python",
   "pygments_lexer": "ipython3",
   "version": "3.4.5"
  }
 },
 "nbformat": 4,
 "nbformat_minor": 2
}
