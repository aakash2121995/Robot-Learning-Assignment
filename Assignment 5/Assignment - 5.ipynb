{
 "cells": [
  {
   "cell_type": "markdown",
   "metadata": {
    "deletable": true,
    "editable": true
   },
   "source": [
    "# Robot Learning Assignment"
   ]
  },
  {
   "cell_type": "markdown",
   "metadata": {
    "deletable": true,
    "editable": true
   },
   "source": [
    "### 1. Develop an implementation of the game BeCareful, a simplified version of Blackjack:\n",
    "The game is played with an infinite deck of cards (i.e. cards are sampled with replacement).\n",
    "Each draw from the deck results in a value between 3 and 12 (uniformly distributed) with a color\n",
    "of red (probability .3) or black (probability .7). <br>\n",
    "\n",
    "There are no aces or picture (face) cards in this game.\n",
    "\n",
    "At the start of the game, both the player and the dealer draw one black card (fully observed) \n",
    "Each turn the player may either stick or hit.<br>\n",
    "If the player hits then he or she draws another card from the deck.<br>\n",
    "If the player sticks he or she receives no further cards.<br>\n",
    "The values of the player's cards are added (black cards) or subtracted (red cards).<br>\n",
    "If the player's sum exceeds 21, or becomes less than 1, then she “goes bust\" and loses the game\n",
    "(reward -1).<br>\n",
    "If the player sticks then the dealer starts taking turns. The dealer always sticks on any sum of 15\n",
    "or greater, and hits otherwise.\n",
    "\n",
    "\n",
    "If the dealer goes bust, then the player wins; otherwise, the outcome\n",
    "{ win (reward +1), lose (reward -1), or draw (reward 0) } is the player with the largest sum.<br>\n",
    "\n",
    "Specifically, write a function (s′, r) = advance(s, a), which takes as input a state s (dealer’s first\n",
    "card 3–12 and the player’s sum 1–21), and an action a (hit or stick), and returns a sample of the\n",
    "next state s′ (which may be terminal if the game is finished) and reward r ∈ {1, 0, -1} for winning,\n",
    "draw, and loosing. All non-terminal rewards are zero. There is no discounting (γ = 1). You should\n",
    "treat the dealer’s moves as part of the environment, i.e. calling advance(s, stick) will play out the\n",
    "dealer’s cards and return the final reward and terminal state. "
   ]
  },
  {
   "cell_type": "code",
   "execution_count": 1,
   "metadata": {
    "collapsed": true,
    "deletable": true,
    "editable": true
   },
   "outputs": [],
   "source": [
    "import enum \n",
    "import numpy as np"
   ]
  },
  {
   "cell_type": "code",
   "execution_count": 2,
   "metadata": {
    "collapsed": false,
    "deletable": true,
    "editable": true
   },
   "outputs": [],
   "source": [
    "  \n",
    "# creating enumerations using class \n",
    "class Action(enum.Enum): \n",
    "    hit = 0\n",
    "    stick = 1\n",
    "\n",
    "# -1 for red card and +1 for black    \n",
    "def getColor():\n",
    "    prob = np.random.uniform(0,1)\n",
    "    if prob <= 0.3:\n",
    "        return -1\n",
    "    else:\n",
    "        return 1\n",
    "\n",
    "# function for returning card value\n",
    "def getValue():\n",
    "    return np.random.randint(3,13)\n",
    "\n",
    "# function for returning card\n",
    "def hit():\n",
    "    return getColor(),getValue()\n",
    "\n",
    "\n",
    "\n",
    "def advance(state,action):\n",
    "    dealerfirstCard = state[0]\n",
    "    dealerSum = dealerfirstCard\n",
    "    playerSum = state[1]\n",
    "    \n",
    "    if action == Action.hit:\n",
    "        color,card = hit()\n",
    "        playerSum = playerSum  + color*card\n",
    "        \n",
    "        ## busted\n",
    "        if playerSum < 1 or playerSum > 21:\n",
    "            return (dealerfirstCard,playerSum),-1,True\n",
    "        else:\n",
    "            return (dealerfirstCard,playerSum), 0,False\n",
    "    \n",
    "    else:\n",
    "\n",
    "        # dealer hitting when dealer's sum is less than 15\n",
    "        while dealerSum < 15:\n",
    "            color,card = hit()\n",
    "            dealerSum += color*card\n",
    "\n",
    "            if dealerSum < 1 or dealerSum > 21:\n",
    "                return (dealerfirstCard,playerSum),1, True\n",
    "        \n",
    "        \n",
    "        if dealerSum > playerSum:\n",
    "             return (dealerfirstCard,playerSum),-1, True\n",
    "        elif dealerSum < playerSum:\n",
    "             return (dealerfirstCard,playerSum),1, True\n",
    "        else:\n",
    "             return (dealerfirstCard,playerSum),0, True\n",
    "\n",
    "        \n",
    "        \n",
    "    \n",
    "\n"
   ]
  },
  {
   "cell_type": "markdown",
   "metadata": {
    "collapsed": false,
    "deletable": true,
    "editable": true
   },
   "source": [
    "### 2. Implement Sarsa(λ) for BeCareful.\n",
    "Initialise the value function Q(s, a) to zero.\n",
    "Use a time-varying scalar step-size of $$ α_{t} = 1/N(s_{t} , a_{t} )$$ and an ε-greedy exploration strategy with<br>\n",
    " $$ε_{{t}}=N_{0} /(N_{0} + N_{(s_{t})})$$  $$,where\\  N_{0} = 10$$ is a constant, N(s) is the number of times state s has been\n",
    "visited, and N(s, a) is the number of times action a has been selected from state s.\n",
    "Run the algorithm with parameter values λ ∈ {0, 0.1, 0.2, ..., 1}. Stop exploration and learning\n",
    "after 1000 episodes and plot the accumulated reward for the next 100 episodes against λ."
   ]
  },
  {
   "cell_type": "code",
   "execution_count": 3,
   "metadata": {
    "collapsed": false,
    "deletable": true,
    "editable": true
   },
   "outputs": [],
   "source": [
    "from collections import defaultdict\n"
   ]
  },
  {
   "cell_type": "code",
   "execution_count": 4,
   "metadata": {
    "collapsed": false,
    "deletable": true,
    "editable": true
   },
   "outputs": [],
   "source": [
    "def initialise():\n",
    "    Q = defaultdict(lambda: np.zeros(len(A)))\n",
    "    e = defaultdict(float)\n",
    "    N_s = defaultdict(int)\n",
    "    N_s_a = defaultdict(int)\n",
    "    \n",
    "    return Q,e,N_s,N_s_a\n",
    "\n",
    "TOTAL_EPISODES = 1000\n",
    "\n",
    "TEST_EPISODES = 100\n",
    "\n",
    "A = [Action.hit, Action.stick]\n",
    "N_0 = 10\n",
    "gamma = 1\n",
    "\n",
    "lambdas = np.linspace(0,1,num=11)\n"
   ]
  },
  {
   "cell_type": "code",
   "execution_count": 5,
   "metadata": {
    "collapsed": false,
    "deletable": true,
    "editable": true
   },
   "outputs": [],
   "source": [
    "# method to return epsilon greedy action\n",
    "def epsilon_greedy(Q,state,epsilon):\n",
    "    actionProbs = np.ones(len(A))*epsilon/len(A)\n",
    "    bestAction = np.argmax(Q[state])\n",
    "    actionProbs[bestAction] += 1 - epsilon\n",
    "    \n",
    "    return np.random.choice(A,p=actionProbs)"
   ]
  },
  {
   "cell_type": "code",
   "execution_count": 6,
   "metadata": {
    "collapsed": false,
    "deletable": true,
    "editable": true
   },
   "outputs": [],
   "source": [
    "# method to return greedy action\n",
    "def greedy(Q,state):\n",
    "    bestAction = np.argmax(Q[state])\n",
    "    return A[bestAction]"
   ]
  },
  {
   "cell_type": "code",
   "execution_count": 7,
   "metadata": {
    "collapsed": false,
    "deletable": true,
    "editable": true
   },
   "outputs": [],
   "source": [
    "\n",
    "epsilon = lambda currentState: N_0/(N_0 + N_s[currentState])\n",
    "learning_rate = lambda state,action: 1/N_s_a[state,action]"
   ]
  },
  {
   "cell_type": "code",
   "execution_count": 8,
   "metadata": {
    "collapsed": true,
    "deletable": true,
    "editable": true
   },
   "outputs": [],
   "source": [
    "# for accumulating rewards\n",
    "reward_sum = np.zeros_like(lambdas)"
   ]
  },
  {
   "cell_type": "code",
   "execution_count": 9,
   "metadata": {
    "collapsed": false,
    "deletable": true,
    "editable": true
   },
   "outputs": [],
   "source": [
    "for i,lambda_ in enumerate(lambdas):\n",
    "    Q,e,N_s,N_s_a = initialise()\n",
    "\n",
    "    for episode in range(TOTAL_EPISODES):\n",
    "        \n",
    "        # getting random black cards\n",
    "        playerSum = getValue()\n",
    "        dealerCard = getValue()\n",
    "        \n",
    "        \n",
    "        #defining the state\n",
    "        currentState = (dealerCard,playerSum)\n",
    "        \n",
    "        #incrementing the count for the state\n",
    "        N_s[currentState] += 1\n",
    "        \n",
    "        action = epsilon_greedy(Q,currentState,epsilon(currentState))\n",
    "        \n",
    "        while True:\n",
    "            # performing action\n",
    "            nextState,reward,endOfEpisode = advance(currentState,action)\n",
    "\n",
    "            # incrementing count for the state action pair\n",
    "            N_s_a[currentState,action] += 1\n",
    "            nextAction = epsilon_greedy(Q,nextState,epsilon(nextState))\n",
    "            error = reward + gamma*Q[nextState][nextAction.value] - Q[currentState][action.value]\n",
    "            \n",
    "            #incrementing eligibiity for the state action\n",
    "            e[currentState,action] += 1\n",
    "            \n",
    "            # updating Q values for visited state action pairs\n",
    "            for s,a in N_s_a.keys():\n",
    "                Q[s][a.value] = Q[s][a.value] + learning_rate(s,a)*error*e[s,a]\n",
    "                e[s,a] = gamma*lambda_*e[s,a]\n",
    "            \n",
    "            \n",
    "            currentState = nextState\n",
    "            N_s[currentState] += 1\n",
    "\n",
    "            action = nextAction\n",
    "            \n",
    "            if endOfEpisode :\n",
    "\n",
    "                break\n",
    "             \n",
    "        \n",
    "    \n",
    "    \n",
    "    for episode in range(TEST_EPISODES):\n",
    "        \n",
    "        playerSum = getValue()\n",
    "        dealerCard = getValue()\n",
    "        \n",
    "        currentState = (dealerCard,playerSum)\n",
    "        # performing action greedily\n",
    "        action = greedy(Q,currentState)\n",
    "        while True:\n",
    "            \n",
    "            nextState,reward,endOfEpisode = advance(currentState,action)\n",
    "            currentState = nextState\n",
    "            action = greedy(Q,currentState)\n",
    "            if endOfEpisode:\n",
    "                reward_sum[i] += reward\n",
    "                break\n",
    "        "
   ]
  },
  {
   "cell_type": "code",
   "execution_count": 10,
   "metadata": {
    "collapsed": false,
    "deletable": true,
    "editable": true
   },
   "outputs": [
    {
     "data": {
      "text/plain": [
       "<matplotlib.axes._subplots.AxesSubplot at 0x7ffb6a7bfcc0>"
      ]
     },
     "execution_count": 10,
     "metadata": {},
     "output_type": "execute_result"
    },
    {
     "data": {
      "image/png": "[encoded data removed]",
      "text/plain": [
       "<Figure size 432x288 with 1 Axes>"
      ]
     },
     "metadata": {},
     "output_type": "display_data"
    }
   ],
   "source": [
    "import seaborn as sns\n",
    "import pandas as pd\n",
    "import matplotlib.pyplot as plt\n",
    "\n",
    "%matplotlib inline\n",
    "data = pd.DataFrame({\"Lambda\":lambdas, \"Rewards\": reward_sum})\n",
    "\n",
    "sns.barplot(x=\"Lambda\",y=\"Rewards\",data=data)"
   ]
  }
 ],
 "metadata": {
  "kernelspec": {
   "display_name": "Python 3",
   "language": "python",
   "name": "python3"
  },
  "language_info": {
   "codemirror_mode": {
    "name": "ipython",
    "version": 3
   },
   "file_extension": ".py",
   "mimetype": "text/x-python",
   "name": "python",
   "nbconvert_exporter": "python",
   "pygments_lexer": "ipython3",
   "version": "3.4.5"
  }
 },
 "nbformat": 4,
 "nbformat_minor": 2
}
